{
 "cells": [
  {
   "cell_type": "markdown",
   "metadata": {},
   "source": [
    "# Assignment 3"
   ]
  },
  {
   "cell_type": "markdown",
   "metadata": {},
   "source": [
    "### Write a function to count the number 4 in a given list."
   ]
  },
  {
   "cell_type": "code",
   "execution_count": 5,
   "metadata": {},
   "outputs": [
    {
     "name": "stdout",
     "output_type": "stream",
     "text": [
      "4\n"
     ]
    }
   ],
   "source": [
    "def cnt(lst):\n",
    "    count=0\n",
    "    for i in lst:\n",
    "        if i == 4:\n",
    "            count+=1\n",
    "    return count\n",
    "\n",
    "lst2=[1,3,4,5,6,7,8,9,4,4,4]\n",
    "n=cnt(lst2)\n",
    "print(n)"
   ]
  },
  {
   "cell_type": "markdown",
   "metadata": {},
   "source": [
    "### write a  function to check whether a number is divisible by another number."
   ]
  },
  {
   "cell_type": "code",
   "execution_count": 7,
   "metadata": {},
   "outputs": [
    {
     "name": "stdout",
     "output_type": "stream",
     "text": [
      "Enter your first number:2\n",
      "Enter the number you want to divide:2\n",
      "True\n"
     ]
    }
   ],
   "source": [
    "def check(num,div):\n",
    "    if num % div == 0:\n",
    "        return True\n",
    "    else:\n",
    "        return False\n",
    "n=int(input(\"Enter your first number:\"))\n",
    "m=int(input(\"Enter the number you want to divide:\"))\n",
    "print(check(n,m))"
   ]
  },
  {
   "cell_type": "markdown",
   "metadata": {},
   "source": [
    "### write a function to find the maximum and minimum numbers from a sequence of numbers."
   ]
  },
  {
   "cell_type": "code",
   "execution_count": 13,
   "metadata": {},
   "outputs": [
    {
     "name": "stdout",
     "output_type": "stream",
     "text": [
      "(34, -33)\n"
     ]
    }
   ],
   "source": [
    "def mx(lst):\n",
    "    minimum=maximum=lst[0]\n",
    "    for i in range(len(lst)):\n",
    "        if(lst[i]<minimum):\n",
    "            minimum=lst[i]\n",
    "        if(lst[i]>maximum):\n",
    "            maximum=lst[i]\n",
    "    return maximum,minimum\n",
    "lst=[19,2,34,-29,-33,-5,3,4,6,7,7,10,0,9]\n",
    "print(mx(lst))"
   ]
  },
  {
   "cell_type": "markdown",
   "metadata": {},
   "source": [
    "### Write a Python function that takes two lists and returns True if they have at least one common member."
   ]
  },
  {
   "cell_type": "code",
   "execution_count": 16,
   "metadata": {},
   "outputs": [
    {
     "name": "stdout",
     "output_type": "stream",
     "text": [
      "True\n"
     ]
    }
   ],
   "source": [
    "def cmn(lst,lst2):\n",
    "    flag=0\n",
    "    for i in lst:\n",
    "        for j in lst2:\n",
    "            if j==i:\n",
    "                return True\n",
    "    if flag == 0:\n",
    "        return False\n",
    "mylst=[1,2,3,4,5,6,7,8,8]\n",
    "mylst2=[10,11,11,12,13,4]\n",
    "print(cmn(mylst,mylst2))"
   ]
  },
  {
   "cell_type": "markdown",
   "metadata": {},
   "source": [
    "### Write a Python function to calculate the factorial of a number (a non-negative integer). The function accepts the number from the user"
   ]
  },
  {
   "cell_type": "code",
   "execution_count": 19,
   "metadata": {},
   "outputs": [
    {
     "name": "stdout",
     "output_type": "stream",
     "text": [
      "Enter the number you want to factorize:4\n",
      "The factorial is 24\n"
     ]
    }
   ],
   "source": [
    "def factorial(num):\n",
    "    if num == 1:\n",
    "           return num\n",
    "    else:\n",
    "           return num*factorial(num-1)\n",
    "\n",
    "n=int(input(\"Enter the number you want to factorize:\"))\n",
    "# check if the number is negative\n",
    "if n < 0:\n",
    "       print(\"Wrong input '(negative number)'\")\n",
    "elif n == 0:\n",
    "       print(\"The factorial of 0 is 1\")\n",
    "else:\n",
    "       print(\"The factorial is\", factorial(n))"
   ]
  },
  {
   "cell_type": "markdown",
   "metadata": {},
   "source": [
    "### Write a Python function to check whether a number is in a given range.\n",
    "\n",
    "### The range is from 3 to 11\n"
   ]
  },
  {
   "cell_type": "code",
   "execution_count": 24,
   "metadata": {},
   "outputs": [
    {
     "name": "stdout",
     "output_type": "stream",
     "text": [
      "Enter a number:9\n",
      "True\n"
     ]
    }
   ],
   "source": [
    "def check(num):\n",
    "    if num < 12 and num > 2:\n",
    "        return True\n",
    "    else:\n",
    "        return False\n",
    "n=int(input(\"Enter a number:\"))\n",
    "print(check(n))"
   ]
  },
  {
   "cell_type": "markdown",
   "metadata": {},
   "source": [
    "### Write a  program to create the multiplication table (from 1 to 10) of a number."
   ]
  },
  {
   "cell_type": "code",
   "execution_count": 26,
   "metadata": {},
   "outputs": [
    {
     "name": "stdout",
     "output_type": "stream",
     "text": [
      "Enter a number to create the multiplication table:6\n",
      "[6, 12, 18, 24, 30, 36, 42, 48, 54, 60]\n"
     ]
    }
   ],
   "source": [
    "def mulTable(num):\n",
    "    lst=[]\n",
    "    for i in range(1,11):\n",
    "        lst.append(num*i)\n",
    "    return lst\n",
    "n=int(input(\"Enter a number to create the multiplication table:\"))\n",
    "print(mulTable(n))"
   ]
  },
  {
   "cell_type": "markdown",
   "metadata": {},
   "source": [
    "#### LESSER OF TWO EVENS: Write a function that returns the lesser of two given numbers *if* both numbers are even, but returns the greater if one or both numbers are odd\n",
    "    lesser_of_two_evens(2,4) --> 2\n",
    "    lesser_of_two_evens(2,5) --> 5"
   ]
  },
  {
   "cell_type": "code",
   "execution_count": 28,
   "metadata": {},
   "outputs": [
    {
     "name": "stdout",
     "output_type": "stream",
     "text": [
      "Enter your first number:2\n",
      "Enter your second number:5\n"
     ]
    },
    {
     "data": {
      "text/plain": [
       "5"
      ]
     },
     "execution_count": 28,
     "metadata": {},
     "output_type": "execute_result"
    }
   ],
   "source": [
    "def fn(n,y):\n",
    "    if n % 2 == 0 and y % 2 == 0:\n",
    "        if n < y:\n",
    "            return n\n",
    "        else:\n",
    "            return y\n",
    "    else:\n",
    "        if n > y:\n",
    "            return n\n",
    "        else:\n",
    "            return y\n",
    "num=int(input(\"Enter your first number:\"))\n",
    "num2=int(input(\"Enter your second number:\"))\n",
    "fn(num,num2)"
   ]
  },
  {
   "cell_type": "markdown",
   "metadata": {},
   "source": [
    "#### ANIMAL CRACKERS: Write a function takes a two-word string and returns True if both words begin with same letter\n",
    "    animal_crackers('Levelheaded Llama') --> True\n",
    "    animal_crackers('Crazy Kangaroo') --> False"
   ]
  },
  {
   "cell_type": "code",
   "execution_count": 44,
   "metadata": {},
   "outputs": [
    {
     "name": "stdout",
     "output_type": "stream",
     "text": [
      "Enter your string consisiting of two words:Ihab iot\n"
     ]
    },
    {
     "data": {
      "text/plain": [
       "True"
      ]
     },
     "execution_count": 44,
     "metadata": {},
     "output_type": "execute_result"
    }
   ],
   "source": [
    "def check(s):\n",
    "    s=s.lower()\n",
    "    string=s.split()\n",
    "    if string[0][0] == string[1][0]:\n",
    "        return True\n",
    "    else:\n",
    "        return False\n",
    "check(input(\"Enter your string consisiting of two words:\"))"
   ]
  },
  {
   "cell_type": "markdown",
   "metadata": {},
   "source": [
    "#### MAKES TWENTY: Given two integers, return True if the sum of the integers is 20 *or* if one of the integers is 20. If not, return False\n",
    "\n",
    "    makes_twenty(20,10) --> True\n",
    "    makes_twenty(12,8) --> True\n",
    "    makes_twenty(2,3) --> False"
   ]
  },
  {
   "cell_type": "code",
   "execution_count": 49,
   "metadata": {},
   "outputs": [
    {
     "name": "stdout",
     "output_type": "stream",
     "text": [
      "Enter the first number:15\n",
      "Enter the second number:5\n"
     ]
    },
    {
     "data": {
      "text/plain": [
       "True"
      ]
     },
     "execution_count": 49,
     "metadata": {},
     "output_type": "execute_result"
    }
   ],
   "source": [
    "def makes_twenty(n1,n2):\n",
    "    if n1 + n2 == 20 or n1==20 or n2==20:\n",
    "        return True\n",
    "    else:\n",
    "        return False\n",
    "num=int(input(\"Enter the first number:\"))\n",
    "num2=int(input(\"Enter the second number:\"))\n",
    "makes_twenty(num,num2)"
   ]
  },
  {
   "cell_type": "markdown",
   "metadata": {},
   "source": [
    "#### ALMOST THERE: Given an integer n, return True if n is within 10 of either 100 or 200\n",
    "\n",
    "    almost_there(90) --> True\n",
    "    almost_there(104) --> True\n",
    "    almost_there(150) --> False\n",
    "    almost_there(209) --> True\n",
    "    \n",
    "NOTE: `abs(num)` returns the absolute value of a number"
   ]
  },
  {
   "cell_type": "code",
   "execution_count": 56,
   "metadata": {},
   "outputs": [
    {
     "name": "stdout",
     "output_type": "stream",
     "text": [
      "Enter your integer:101\n"
     ]
    },
    {
     "data": {
      "text/plain": [
       "True"
      ]
     },
     "execution_count": 56,
     "metadata": {},
     "output_type": "execute_result"
    }
   ],
   "source": [
    "def almost_there(num):\n",
    "    if (num <111 and num > 89) or (num <211 and num > 189):\n",
    "        return True\n",
    "    else:\n",
    "        return False\n",
    "n = int(input(\"Enter your integer:\"))\n",
    "almost_there(n)"
   ]
  },
  {
   "cell_type": "markdown",
   "metadata": {},
   "source": [
    "#### BLACKJACK: Given three integers between 1 and 11, if their sum is less than or equal to 21, return their sum. If their sum exceeds 21 *and* there's an eleven, reduce the total sum by 10. Finally, if the sum  exceeds 21, return 'BUST'\n",
    "    blackjack(5,6,7) --> 18\n",
    "    blackjack(9,9,9) --> 'BUST'\n",
    "    blackjack(9,9,11) --> 19"
   ]
  },
  {
   "cell_type": "code",
   "execution_count": 63,
   "metadata": {},
   "outputs": [
    {
     "name": "stdout",
     "output_type": "stream",
     "text": [
      "Enter your first integers: 10\n",
      "Enter your second integers: 10\n",
      "Enter your third integers: 10\n",
      "BUST\n"
     ]
    }
   ],
   "source": [
    "def blackjack(x,y,z):\n",
    "    summ=x + y + z\n",
    "    if summ<= 21:\n",
    "        return summ\n",
    "    elif summ>21 and (x or y or z) ==11:\n",
    "        summ=summ-10\n",
    "        return summ\n",
    "    else:\n",
    "        return \"BUST\"\n",
    "x= int(input(\"Enter your first integers: \"))\n",
    "y= int(input(\"Enter your second integers: \"))\n",
    "z= int(input(\"Enter your third integers: \"))\n",
    "if (x <12 and x>0) and (y<12 and y>0) and (z<12 and z>0):\n",
    "    print(blackjack(x,y,z))\n",
    "else:\n",
    "    print(\"Wrong input\")"
   ]
  },
  {
   "cell_type": "code",
   "execution_count": null,
   "metadata": {},
   "outputs": [],
   "source": []
  }
 ],
 "metadata": {
  "kernelspec": {
   "display_name": "Python 3 (ipykernel)",
   "language": "python",
   "name": "python3"
  },
  "language_info": {
   "codemirror_mode": {
    "name": "ipython",
    "version": 3
   },
   "file_extension": ".py",
   "mimetype": "text/x-python",
   "name": "python",
   "nbconvert_exporter": "python",
   "pygments_lexer": "ipython3",
   "version": "3.9.12"
  }
 },
 "nbformat": 4,
 "nbformat_minor": 2
}
